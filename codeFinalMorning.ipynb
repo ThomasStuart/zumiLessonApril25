from zumi.zumi import Zumi

zumi = Zumi()
zumi.mpu.calibrate_MPU()

# CONSTANTS
DIV_CONST = 6.0
POWER = 40


class Node:

    def __init__(self, n, p):
        self.name       = n
        self.position   = p
        self.visited    = False
        self.edges      = []

    def get_name(self):
        return self.name


    def get_edges(self):
        return self.edges
        
        
class Edge:

    def __init__(self, eName, startNode , endNode, alpha, beta, road_length):
        self.edgeName = eName
        self.startNode = startNode
        self.endNode   = endNode
        self.startNodeDirToEndNode = alpha
        self.endNodeDirToStartNode = beta
        self.road_length = road_length

    def get_edgeName(self):
        return self.edgeName

    def get_startNode(self):
        return self.startNode

    def get_endNode(self):
        return self.endNode


    def get_startNode_name(self):
        return self.startNode.name

    def get_endNode_name(self):
        return self.endNode.name

    def get_startNodeDirToEndNode(self):
        return self.startNodeDirToEndNode

    def get_endNodeDirToStartNode(self):
        return self.endNodeDirToStartNode


class Graph:
    def __init__(self):
        self.nodes_dict = None
        self.edges_dict = None

    def create_simple(self):
        node_names = ['x', 'a', 's', 'b']
        node_pos = [(0, 10), (-10, 0), (0, 0), (10, 0)]
        nodes_dict = {}

        # Create nodes and add them to the dictionary
        for index in range(0, len(node_names)):
            key = node_names[index]
            value = Node(node_names[index], node_pos[index])
            nodes_dict[key] = value

        edges_dict = {}
        e1 = Edge( "e1", nodes_dict['s'], nodes_dict['x'], 90, 270, 10)
        e2 = Edge( "e2", nodes_dict['a'], nodes_dict['s'], 0, 180, 10)
        e3 = Edge( "e3", nodes_dict['b'], nodes_dict['s'], 180, 0, 10)

        edges_dict['sx'] = e1
        edges_dict['as'] = e2
        edges_dict['bs'] = e3

        # add e1 to both vertices
        nodes_dict['s'].edges.append(e1)
        nodes_dict['x'].edges.append(e1)

        # add e2 to both vertices
        nodes_dict['a'].edges.append(e2)
        nodes_dict['s'].edges.append(e2)

        # add e3 to both vertices
        nodes_dict['b'].edges.append(e3)
        nodes_dict['s'].edges.append(e3)

        # set class vars
        self.nodes_dict = nodes_dict
        self.edges_dict = edges_dict
        
    
    def create_simple_different_road_lengths(self):
        node_names = [   'x',   'a',   's',      'b']
        node_pos   = [  (0,8), (5,0),  (0,0),  (2,0)]
        nodes_dict = {}

        # Create nodes and add them to the dictionary
        for index in range(0, len(node_names)):
            key = node_names[index]
            value = Node(node_names[index], node_pos[index])
            nodes_dict[key] = value

        edges_dict = {}
        e1 = Edge( "e1", nodes_dict['s'], nodes_dict['x'], 90, 270, 8)
        e2 = Edge( "e2", nodes_dict['a'], nodes_dict['s'], 0, 180, 5)
        e3 = Edge( "e3", nodes_dict['b'], nodes_dict['s'], 180, 0, 2)

        edges_dict['sx'] = e1
        edges_dict['as'] = e2
        edges_dict['bs'] = e3

        # add e1 to both vertices
        nodes_dict['s'].edges.append(e1)
        nodes_dict['x'].edges.append(e1)

        # add e2 to both vertices
        nodes_dict['a'].edges.append(e2)
        nodes_dict['s'].edges.append(e2)

        # add e3 to both vertices
        nodes_dict['b'].edges.append(e3)
        nodes_dict['s'].edges.append(e3)

        # set class vars
        self.nodes_dict = nodes_dict
        self.edges_dict = edges_dict


    def search(self, startChar, destinationChar):
        startNode       = self.nodes_dict[startChar]
        destinationNode = self.nodes_dict[destinationChar]
        queue = []
        queue.append( ( startNode, []) )

        while (  len(queue) > 0  ):

            currNode, currRoute = queue.pop(0)

            # print("currNode:   ", currNode.get_name() )
            # print("currRoute:  ", end="")
            # for n in currRoute:
            #     print("->", n.get_name(), "<-", end="")
            # print()
            currNode.visited = True

            if currNode == destinationNode:
                print("FOUND")
                return currRoute

            for edge in currNode.edges:
                #print("Examining edge from ->", edge.get_startNode_name(), "<- to ->", edge.get_endNode_name(), "<-" )
                if   edge.startNode != currNode and edge.startNode.visited == False:
                    new_route = currRoute.copy()
                    new_route.append( ( edge, edge.get_endNodeDirToStartNode() ))
                    #new_route.append(  edge.startNode )
                    queue.append( ( edge.startNode, new_route   ) )
                elif edge.endNode != currNode and edge.endNode.visited == False:
                    new_route = currRoute.copy()
                    new_route.append( ( edge, edge.get_startNodeDirToEndNode() ))
                    #new_route.append(edge.endNode)
                    queue.append( ( edge.endNode,   new_route   ))

        return "FAILED"


def getTimeForTravel(distanceInInches):
    time = (distanceInInches + 1) / DIV_CONST
    return time



def change_heading_to_desired_heading( currAngle, desiredAngle ):
    turn_magnitude = abs( currAngle - desiredAngle )

    # turning left
    if currAngle < desiredAngle:
        zumi.turn_left(turn_magnitude)
        return desiredAngle
    # turning right
    elif currAngle > desiredAngle :
        zumi.turn_right(turn_magnitude)
        return desiredAngle
    else:
        return desiredAngle

'''
    def create_complex(self):
        node_names = ['x', 'y', 'z', 'a', 's', 'b']
        node_pos = [(-10, 10), (0, 10), (10, 10), (-10, 0), (0, 0), (10, 0)]

        nodes_dict = {}
        # Create nodes and add them to the dictionary
        for index in range(0, len(node_names)):
            key = node_names[index]
            value = Node(node_names[index], node_pos[index])
            nodes_dict[key] = value
        edges_dict = {}

        # we need to pass 5 values 
        # currently only pass it 2 vlaues
        #  e1 = Edge( "e1", nodes_dict['s'], nodes_dict['x'],  90, 270)
        e1 = Edge("e1",nodes_dict['x'], nodes_dict['y'], 0, 180)
        e2 = Edge(nodes_dict['y'], nodes_dict['z'])
        e3 = Edge(nodes_dict['s'], nodes_dict['y']) # has s
        e4 = Edge(nodes_dict['s'], nodes_dict['z']) # has s
        e5 = Edge(nodes_dict['b'], nodes_dict['z'])
        e6 = Edge(nodes_dict['a'], nodes_dict['s'])
        e7 = Edge(nodes_dict['s'], nodes_dict['b']) # has s
        
        edges_dict['xy'] = e1
        edges_dict['yz'] = e2
        edges_dict['sy'] = e3
        edges_dict['sz'] = e4
        edges_dict['bz'] = e5
        edges_dict['as'] = e6
        edges_dict['sb'] = e7
        
        # add e1 to both vertices
        nodes_dict['x'].edges.append(e1)
        nodes_dict['y'].edges.append(e1)
        # add e2 to both vertices
        nodes_dict['y'].edges.append(e2)
        nodes_dict['z'].edges.append(e2)
        # add e3 to both vertices
        nodes_dict['s'].edges.append(e3)
        nodes_dict['y'].edges.append(e3)
        # add e4 to both vertices
        nodes_dict['s'].edges.append(e4)
        nodes_dict['z'].edges.append(e4)
        # add e5 to both vertices
        nodes_dict['b'].edges.append(e5)
        nodes_dict['z'].edges.append(e5)
        # add e6 to both vertices
        nodes_dict['a'].edges.append(e6)
        nodes_dict['s'].edges.append(e6)
        # add e7 to both vertices
        nodes_dict['s'].edges.append(e7)
        nodes_dict['b'].edges.append(e7)
        # set class vars
        self.nodes_dict = nodes_dict
        self.edges_dict = edges_dict
'''

    
    
    
def main():
    G = Graph()
    #G.create_simple()
    G.create_simple_different_road_lengths() 
    #G.create_d_graph()
    #G.create_complex()
    
    #route = G.search('s', 'x')
    #route = G.search('s', 'a')  # Try this 
    route = G.search('x', 'b')  # Try this 
    #route = G.search('x', 'a')   # Try this 
    
    heading = 90

    print("-----  Final Route: ----- " )
    i = 0
    for item in route:
        print("\t edge name: ", item[0].get_edgeName(), "desired angle", item[1] ) 
        i+=1
    
   
    print("starting off heading", heading)
    while len( route ) != 0 :
        pair = route[0]
        edge             = pair[0]                 # TODO:: ADD NEW LINE
        distance         = edge.road_length        # TODO:: ADD NEW LINE
        desired_angle    = pair[1] 
        
        print("distance ?", distance)

        # Step1: change heading to desired heading 
        heading = change_heading_to_desired_heading( heading, desired_angle )
        print("currHeading,", heading)

        # Step2: get the distance we need to go 
        desired_distance = distance                # TODO::  ADD NEW LINE
        time = getTimeForTravel(desired_distance)
        zumi.forward(POWER, time)   


        # Step3: deletes the first element in list
        route.pop(0)




if __name__ == "__main__":
    main()
