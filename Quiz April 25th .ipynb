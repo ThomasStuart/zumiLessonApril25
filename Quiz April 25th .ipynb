{
 "cells": [
  {
   "cell_type": "code",
   "execution_count": 2,
   "metadata": {},
   "outputs": [
    {
     "name": "stdout",
     "output_type": "stream",
     "text": [
      "Hello \n"
     ]
    }
   ],
   "source": [
    "# Question 1: how would I craete a class in python ? \n",
    "\n",
    "class Car: \n",
    "    def __init__(self, max_speed):\n",
    "        self.max_speed = max_speed\n",
    "        \n",
    "class Car: \n",
    "    def __init__(max_speed):\n",
    "        self.max_speed = max_speed\n",
    "        \n",
    "class Car: \n",
    "       __init__(self, max_speed):\n",
    "        self.max_speed = max_speed\n",
    "        \n",
    "class Car: \n",
    "    def __init__(self, max_speed):\n",
    "        max_speed = max_speed"
   ]
  },
  {
   "cell_type": "code",
   "execution_count": null,
   "metadata": {},
   "outputs": [],
   "source": [
    "# Question 2: How do you remove an element from the beggining of a List ? \n",
    "# For example, if i had the following list:\n",
    "List = [1,2,3]  # -> List = [2,3] \n",
    "#And wanted to remove the first element, how would I do it ? \n",
    "\n",
    "# TODO:: insert code here "
   ]
  },
  {
   "cell_type": "code",
   "execution_count": null,
   "metadata": {},
   "outputs": [],
   "source": [
    "# Question 3: What is the Node class used for ?\n",
    "\n",
    "a = \"To represent corners or turning points in our map.\"\n",
    "b = \"To represent a section or a street in our map.\"\n",
    "c = \"To tell us what other roads we can get to in our map through this point. \"\n",
    "d = \"To represent the length of the road in our map \""
   ]
  },
  {
   "cell_type": "code",
   "execution_count": null,
   "metadata": {},
   "outputs": [],
   "source": [
    "#Questions 4: Why are there angles in the edge class ?\n",
    "\n",
    "class Edge: \n",
    "    def __init__(self, eName, startNode , endNode, alpha, beta):\n",
    "        self.edgeName = eName\n",
    "        self.startNode = startNode\n",
    "        self.endNode   = endNode \n",
    "        self.startNodeDirToEndNode = alpha   # EXPLAIN THIS \n",
    "        self.endNodeDirToStartNode = beta    # EXPLAIN THIS \n",
    "\n",
    "Response = \"???\""
   ]
  },
  {
   "cell_type": "code",
   "execution_count": null,
   "metadata": {},
   "outputs": [],
   "source": [
    "#Questions 5: What is the Graph class used for ?\n",
    "a = \"To package everythig together. Since nodes and edges need to know about each other.\"\n",
    "b = \"So that we can access any point in our map without having to go through a list.\""
   ]
  },
  {
   "cell_type": "code",
   "execution_count": null,
   "metadata": {},
   "outputs": [],
   "source": [
    "#Question 6: Write the command to make Zumi move forward for 2 seconds \n",
    "zumi = Zumi() \n",
    "\n",
    "# TODO:: insert code here "
   ]
  },
  {
   "cell_type": "code",
   "execution_count": null,
   "metadata": {},
   "outputs": [],
   "source": [
    "#Question 7: Write the command to make Zumi turn left by 90 degrees \n",
    "zumi = Zumi() \n",
    "\n",
    "# TODO:: insert code here "
   ]
  },
  {
   "cell_type": "code",
   "execution_count": 1,
   "metadata": {},
   "outputs": [],
   "source": [
    "#Question 8: Write the command to make Zumi move forward by 2 seconds 5 times in a for loop \n",
    "zumi = Zumi() \n",
    "\n",
    "# TODO:: insert code here \n",
    "\n",
    "# Hint:  for ___ in ___ (??, ??):\n"
   ]
  },
  {
   "cell_type": "code",
   "execution_count": null,
   "metadata": {},
   "outputs": [],
   "source": [
    "#Question 9:  write the code so that the list is printed as such:\n",
    "\n",
    "# element 0 -> a  \n",
    "# element 1 -> b\n",
    "# element 2 -> c\n",
    "\n",
    "\n",
    "List = ['a','b','c']\n",
    "\n",
    "# Hint: use a for loop, use the print statement inside \n",
    "\n",
    "# TODO:: insert code here \n"
   ]
  },
  {
   "cell_type": "code",
   "execution_count": null,
   "metadata": {},
   "outputs": [],
   "source": [
    "#Question 10: write the code to add an element to the list\n",
    "List = [1,2,3]  # -> List = [1,2,3,4,5 ]\n",
    "\n",
    "# TODO:: insert code here "
   ]
  },
  {
   "cell_type": "code",
   "execution_count": null,
   "metadata": {},
   "outputs": [],
   "source": []
  }
 ],
 "metadata": {
  "kernelspec": {
   "display_name": "Python 3",
   "language": "python",
   "name": "python3"
  },
  "language_info": {
   "codemirror_mode": {
    "name": "ipython",
    "version": 3
   },
   "file_extension": ".py",
   "mimetype": "text/x-python",
   "name": "python",
   "nbconvert_exporter": "python",
   "pygments_lexer": "ipython3",
   "version": "3.5.3"
  }
 },
 "nbformat": 4,
 "nbformat_minor": 2
}
